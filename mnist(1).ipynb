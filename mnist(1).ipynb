{
 "cells": [
  {
   "cell_type": "code",
   "execution_count": 1,
   "id": "527719dc",
   "metadata": {
    "execution": {
     "iopub.execute_input": "2022-11-07T20:30:13.229502Z",
     "iopub.status.busy": "2022-11-07T20:30:13.228955Z",
     "iopub.status.idle": "2022-11-07T20:30:13.240768Z",
     "shell.execute_reply": "2022-11-07T20:30:13.239666Z"
    },
    "papermill": {
     "duration": 0.022271,
     "end_time": "2022-11-07T20:30:13.243451",
     "exception": false,
     "start_time": "2022-11-07T20:30:13.221180",
     "status": "completed"
    },
    "tags": []
   },
   "outputs": [],
   "source": [
    "import numpy as np\n",
    "import pandas as pd\n",
    "import matplotlib.pyplot as plt"
   ]
  },
  {
   "cell_type": "code",
   "execution_count": 2,
   "id": "4df347e0",
   "metadata": {
    "execution": {
     "iopub.execute_input": "2022-11-07T20:30:13.255803Z",
     "iopub.status.busy": "2022-11-07T20:30:13.255265Z",
     "iopub.status.idle": "2022-11-07T20:30:17.138967Z",
     "shell.execute_reply": "2022-11-07T20:30:17.137755Z"
    },
    "papermill": {
     "duration": 3.893516,
     "end_time": "2022-11-07T20:30:17.142264",
     "exception": false,
     "start_time": "2022-11-07T20:30:13.248748",
     "status": "completed"
    },
    "tags": []
   },
   "outputs": [],
   "source": [
    "data = pd.read_csv('/kaggle/input/digit-recognizer/train.csv')"
   ]
  },
  {
   "cell_type": "code",
   "execution_count": 3,
   "id": "2d508549",
   "metadata": {
    "execution": {
     "iopub.execute_input": "2022-11-07T20:30:17.154185Z",
     "iopub.status.busy": "2022-11-07T20:30:17.153740Z",
     "iopub.status.idle": "2022-11-07T20:30:17.187361Z",
     "shell.execute_reply": "2022-11-07T20:30:17.185913Z"
    },
    "papermill": {
     "duration": 0.043689,
     "end_time": "2022-11-07T20:30:17.190880",
     "exception": false,
     "start_time": "2022-11-07T20:30:17.147191",
     "status": "completed"
    },
    "tags": []
   },
   "outputs": [
    {
     "data": {
      "text/html": [
       "<div>\n",
       "<style scoped>\n",
       "    .dataframe tbody tr th:only-of-type {\n",
       "        vertical-align: middle;\n",
       "    }\n",
       "\n",
       "    .dataframe tbody tr th {\n",
       "        vertical-align: top;\n",
       "    }\n",
       "\n",
       "    .dataframe thead th {\n",
       "        text-align: right;\n",
       "    }\n",
       "</style>\n",
       "<table border=\"1\" class=\"dataframe\">\n",
       "  <thead>\n",
       "    <tr style=\"text-align: right;\">\n",
       "      <th></th>\n",
       "      <th>label</th>\n",
       "      <th>pixel0</th>\n",
       "      <th>pixel1</th>\n",
       "      <th>pixel2</th>\n",
       "      <th>pixel3</th>\n",
       "      <th>pixel4</th>\n",
       "      <th>pixel5</th>\n",
       "      <th>pixel6</th>\n",
       "      <th>pixel7</th>\n",
       "      <th>pixel8</th>\n",
       "      <th>...</th>\n",
       "      <th>pixel774</th>\n",
       "      <th>pixel775</th>\n",
       "      <th>pixel776</th>\n",
       "      <th>pixel777</th>\n",
       "      <th>pixel778</th>\n",
       "      <th>pixel779</th>\n",
       "      <th>pixel780</th>\n",
       "      <th>pixel781</th>\n",
       "      <th>pixel782</th>\n",
       "      <th>pixel783</th>\n",
       "    </tr>\n",
       "  </thead>\n",
       "  <tbody>\n",
       "    <tr>\n",
       "      <th>0</th>\n",
       "      <td>1</td>\n",
       "      <td>0</td>\n",
       "      <td>0</td>\n",
       "      <td>0</td>\n",
       "      <td>0</td>\n",
       "      <td>0</td>\n",
       "      <td>0</td>\n",
       "      <td>0</td>\n",
       "      <td>0</td>\n",
       "      <td>0</td>\n",
       "      <td>...</td>\n",
       "      <td>0</td>\n",
       "      <td>0</td>\n",
       "      <td>0</td>\n",
       "      <td>0</td>\n",
       "      <td>0</td>\n",
       "      <td>0</td>\n",
       "      <td>0</td>\n",
       "      <td>0</td>\n",
       "      <td>0</td>\n",
       "      <td>0</td>\n",
       "    </tr>\n",
       "    <tr>\n",
       "      <th>1</th>\n",
       "      <td>0</td>\n",
       "      <td>0</td>\n",
       "      <td>0</td>\n",
       "      <td>0</td>\n",
       "      <td>0</td>\n",
       "      <td>0</td>\n",
       "      <td>0</td>\n",
       "      <td>0</td>\n",
       "      <td>0</td>\n",
       "      <td>0</td>\n",
       "      <td>...</td>\n",
       "      <td>0</td>\n",
       "      <td>0</td>\n",
       "      <td>0</td>\n",
       "      <td>0</td>\n",
       "      <td>0</td>\n",
       "      <td>0</td>\n",
       "      <td>0</td>\n",
       "      <td>0</td>\n",
       "      <td>0</td>\n",
       "      <td>0</td>\n",
       "    </tr>\n",
       "    <tr>\n",
       "      <th>2</th>\n",
       "      <td>1</td>\n",
       "      <td>0</td>\n",
       "      <td>0</td>\n",
       "      <td>0</td>\n",
       "      <td>0</td>\n",
       "      <td>0</td>\n",
       "      <td>0</td>\n",
       "      <td>0</td>\n",
       "      <td>0</td>\n",
       "      <td>0</td>\n",
       "      <td>...</td>\n",
       "      <td>0</td>\n",
       "      <td>0</td>\n",
       "      <td>0</td>\n",
       "      <td>0</td>\n",
       "      <td>0</td>\n",
       "      <td>0</td>\n",
       "      <td>0</td>\n",
       "      <td>0</td>\n",
       "      <td>0</td>\n",
       "      <td>0</td>\n",
       "    </tr>\n",
       "    <tr>\n",
       "      <th>3</th>\n",
       "      <td>4</td>\n",
       "      <td>0</td>\n",
       "      <td>0</td>\n",
       "      <td>0</td>\n",
       "      <td>0</td>\n",
       "      <td>0</td>\n",
       "      <td>0</td>\n",
       "      <td>0</td>\n",
       "      <td>0</td>\n",
       "      <td>0</td>\n",
       "      <td>...</td>\n",
       "      <td>0</td>\n",
       "      <td>0</td>\n",
       "      <td>0</td>\n",
       "      <td>0</td>\n",
       "      <td>0</td>\n",
       "      <td>0</td>\n",
       "      <td>0</td>\n",
       "      <td>0</td>\n",
       "      <td>0</td>\n",
       "      <td>0</td>\n",
       "    </tr>\n",
       "    <tr>\n",
       "      <th>4</th>\n",
       "      <td>0</td>\n",
       "      <td>0</td>\n",
       "      <td>0</td>\n",
       "      <td>0</td>\n",
       "      <td>0</td>\n",
       "      <td>0</td>\n",
       "      <td>0</td>\n",
       "      <td>0</td>\n",
       "      <td>0</td>\n",
       "      <td>0</td>\n",
       "      <td>...</td>\n",
       "      <td>0</td>\n",
       "      <td>0</td>\n",
       "      <td>0</td>\n",
       "      <td>0</td>\n",
       "      <td>0</td>\n",
       "      <td>0</td>\n",
       "      <td>0</td>\n",
       "      <td>0</td>\n",
       "      <td>0</td>\n",
       "      <td>0</td>\n",
       "    </tr>\n",
       "  </tbody>\n",
       "</table>\n",
       "<p>5 rows × 785 columns</p>\n",
       "</div>"
      ],
      "text/plain": [
       "   label  pixel0  pixel1  pixel2  pixel3  pixel4  pixel5  pixel6  pixel7  \\\n",
       "0      1       0       0       0       0       0       0       0       0   \n",
       "1      0       0       0       0       0       0       0       0       0   \n",
       "2      1       0       0       0       0       0       0       0       0   \n",
       "3      4       0       0       0       0       0       0       0       0   \n",
       "4      0       0       0       0       0       0       0       0       0   \n",
       "\n",
       "   pixel8  ...  pixel774  pixel775  pixel776  pixel777  pixel778  pixel779  \\\n",
       "0       0  ...         0         0         0         0         0         0   \n",
       "1       0  ...         0         0         0         0         0         0   \n",
       "2       0  ...         0         0         0         0         0         0   \n",
       "3       0  ...         0         0         0         0         0         0   \n",
       "4       0  ...         0         0         0         0         0         0   \n",
       "\n",
       "   pixel780  pixel781  pixel782  pixel783  \n",
       "0         0         0         0         0  \n",
       "1         0         0         0         0  \n",
       "2         0         0         0         0  \n",
       "3         0         0         0         0  \n",
       "4         0         0         0         0  \n",
       "\n",
       "[5 rows x 785 columns]"
      ]
     },
     "execution_count": 3,
     "metadata": {},
     "output_type": "execute_result"
    }
   ],
   "source": [
    "data.head()"
   ]
  },
  {
   "cell_type": "code",
   "execution_count": 4,
   "id": "66e6d6dd",
   "metadata": {
    "execution": {
     "iopub.execute_input": "2022-11-07T20:30:17.202519Z",
     "iopub.status.busy": "2022-11-07T20:30:17.202077Z",
     "iopub.status.idle": "2022-11-07T20:30:17.343907Z",
     "shell.execute_reply": "2022-11-07T20:30:17.342733Z"
    },
    "papermill": {
     "duration": 0.150735,
     "end_time": "2022-11-07T20:30:17.346603",
     "exception": false,
     "start_time": "2022-11-07T20:30:17.195868",
     "status": "completed"
    },
    "tags": []
   },
   "outputs": [],
   "source": [
    "data = np.array(data)"
   ]
  },
  {
   "cell_type": "code",
   "execution_count": 5,
   "id": "2f3b6320",
   "metadata": {
    "execution": {
     "iopub.execute_input": "2022-11-07T20:30:17.358593Z",
     "iopub.status.busy": "2022-11-07T20:30:17.358106Z",
     "iopub.status.idle": "2022-11-07T20:30:18.180959Z",
     "shell.execute_reply": "2022-11-07T20:30:18.179731Z"
    },
    "papermill": {
     "duration": 0.831967,
     "end_time": "2022-11-07T20:30:18.183709",
     "exception": false,
     "start_time": "2022-11-07T20:30:17.351742",
     "status": "completed"
    },
    "tags": []
   },
   "outputs": [],
   "source": [
    "data = np.array(data)\n",
    "m, n = data.shape\n",
    "np.random.shuffle(data) # shuffle before splitting into dev and training sets\n",
    "\n",
    "data_dev = data[0:1000].T\n",
    "Y_dev = data_dev[0]\n",
    "X_dev = data_dev[1:n]\n",
    "X_dev = X_dev / 255.\n",
    "\n",
    "data_train = data[1000:m].T\n",
    "Y_train = data_train[0]\n",
    "X_train = data_train[1:n]\n",
    "X_train = X_train / 255.\n",
    "_,m_train = X_train.shape"
   ]
  },
  {
   "cell_type": "code",
   "execution_count": 6,
   "id": "74d289d1",
   "metadata": {
    "execution": {
     "iopub.execute_input": "2022-11-07T20:30:18.195323Z",
     "iopub.status.busy": "2022-11-07T20:30:18.194865Z",
     "iopub.status.idle": "2022-11-07T20:30:18.202698Z",
     "shell.execute_reply": "2022-11-07T20:30:18.201498Z"
    },
    "papermill": {
     "duration": 0.016463,
     "end_time": "2022-11-07T20:30:18.205224",
     "exception": false,
     "start_time": "2022-11-07T20:30:18.188761",
     "status": "completed"
    },
    "tags": []
   },
   "outputs": [
    {
     "data": {
      "text/plain": [
       "array([3, 7, 8, ..., 5, 8, 5])"
      ]
     },
     "execution_count": 6,
     "metadata": {},
     "output_type": "execute_result"
    }
   ],
   "source": [
    "Y_train"
   ]
  },
  {
   "cell_type": "code",
   "execution_count": 7,
   "id": "08fb2563",
   "metadata": {
    "execution": {
     "iopub.execute_input": "2022-11-07T20:30:18.217000Z",
     "iopub.status.busy": "2022-11-07T20:30:18.216585Z",
     "iopub.status.idle": "2022-11-07T20:30:18.224691Z",
     "shell.execute_reply": "2022-11-07T20:30:18.223169Z"
    },
    "papermill": {
     "duration": 0.017115,
     "end_time": "2022-11-07T20:30:18.227505",
     "exception": false,
     "start_time": "2022-11-07T20:30:18.210390",
     "status": "completed"
    },
    "tags": []
   },
   "outputs": [
    {
     "data": {
      "text/plain": [
       "(784,)"
      ]
     },
     "execution_count": 7,
     "metadata": {},
     "output_type": "execute_result"
    }
   ],
   "source": [
    "X_train[:, 0].shape"
   ]
  },
  {
   "cell_type": "code",
   "execution_count": 8,
   "id": "0531e011",
   "metadata": {
    "execution": {
     "iopub.execute_input": "2022-11-07T20:30:18.240282Z",
     "iopub.status.busy": "2022-11-07T20:30:18.239854Z",
     "iopub.status.idle": "2022-11-07T20:30:18.247355Z",
     "shell.execute_reply": "2022-11-07T20:30:18.246066Z"
    },
    "papermill": {
     "duration": 0.017382,
     "end_time": "2022-11-07T20:30:18.250183",
     "exception": false,
     "start_time": "2022-11-07T20:30:18.232801",
     "status": "completed"
    },
    "tags": []
   },
   "outputs": [],
   "source": [
    "def init_params():\n",
    "    W1 = np.random.rand(10, 784) - 0.5\n",
    "    b1 = np.random.rand(10, 1) - 0.5\n",
    "    W2 = np.random.rand(10, 10) - 0.5\n",
    "    b2 = np.random.rand(10, 1) - 0.5\n",
    "    return W1, b1, W2, b2"
   ]
  },
  {
   "cell_type": "code",
   "execution_count": 9,
   "id": "9ef33993",
   "metadata": {
    "execution": {
     "iopub.execute_input": "2022-11-07T20:30:18.263299Z",
     "iopub.status.busy": "2022-11-07T20:30:18.261941Z",
     "iopub.status.idle": "2022-11-07T20:30:18.268715Z",
     "shell.execute_reply": "2022-11-07T20:30:18.267500Z"
    },
    "papermill": {
     "duration": 0.015838,
     "end_time": "2022-11-07T20:30:18.271293",
     "exception": false,
     "start_time": "2022-11-07T20:30:18.255455",
     "status": "completed"
    },
    "tags": []
   },
   "outputs": [],
   "source": [
    "def ReLU(Z):\n",
    "    return np.maximum(Z, 0)\n",
    "def softmax(Z):\n",
    "    A = np.exp(Z) / sum(np.exp(Z))\n",
    "    return A"
   ]
  },
  {
   "cell_type": "code",
   "execution_count": 10,
   "id": "4d512725",
   "metadata": {
    "execution": {
     "iopub.execute_input": "2022-11-07T20:30:18.283659Z",
     "iopub.status.busy": "2022-11-07T20:30:18.283042Z",
     "iopub.status.idle": "2022-11-07T20:30:18.295678Z",
     "shell.execute_reply": "2022-11-07T20:30:18.294697Z"
    },
    "papermill": {
     "duration": 0.021776,
     "end_time": "2022-11-07T20:30:18.298280",
     "exception": false,
     "start_time": "2022-11-07T20:30:18.276504",
     "status": "completed"
    },
    "tags": []
   },
   "outputs": [],
   "source": [
    "def fr_prop(W1, b1, W2, b2, X):\n",
    "    Z1 = W1.dot(X) + b1\n",
    "    A1 = ReLU(Z1)\n",
    "    Z2 = W2.dot(A1) + b2\n",
    "    A2 = softmax(Z2)\n",
    "    return Z1, A1, Z2, A2\n",
    "\n",
    "def one_hot(Y):\n",
    "    one_hot_Y = np.zeros((Y.size, Y.max()+1))\n",
    "    one_hot_Y[np.arange(Y.size), Y] = 1\n",
    "    one_hot_Y = one_hot_Y.T\n",
    "    return one_hot_Y\n",
    "\n",
    "def ReLU_deriv(Z):\n",
    "    return Z > 0\n",
    "\n",
    "def b_prop(Z1, A1, Z2, A2, W1, W2, X, Y):\n",
    "    one_hot_Y = one_hot(Y)\n",
    "    dZ2 = A2 - one_hot(Y)\n",
    "    dW2 = 1 / m * dZ2.dot(A1.T)\n",
    "    db2 = 1 / m * np.sum(dZ2)\n",
    "    dZ1 = W2.T.dot(dZ2) * ReLU_deriv(Z1)\n",
    "    dW1 = 1 / m * dZ1.dot(X.T)\n",
    "    db1 = 1 / m * np.sum(dZ1)\n",
    "    return dW1, db1, dW2, db2\n",
    "\n",
    "def update_params(W1, b1, W2, b2, dW1, db1, dW2, db2, alpha):\n",
    "    W1 = W1 - alpha * dW1\n",
    "    b1 = b1 - alpha * db1\n",
    "    W2 = W2 - alpha * dW2\n",
    "    b2 = b2 - alpha * db2\n",
    "    return W1, b1, W2, b2\n"
   ]
  },
  {
   "cell_type": "code",
   "execution_count": 11,
   "id": "dec6ad59",
   "metadata": {
    "execution": {
     "iopub.execute_input": "2022-11-07T20:30:18.310710Z",
     "iopub.status.busy": "2022-11-07T20:30:18.310313Z",
     "iopub.status.idle": "2022-11-07T20:30:18.319471Z",
     "shell.execute_reply": "2022-11-07T20:30:18.318138Z"
    },
    "papermill": {
     "duration": 0.018444,
     "end_time": "2022-11-07T20:30:18.322008",
     "exception": false,
     "start_time": "2022-11-07T20:30:18.303564",
     "status": "completed"
    },
    "tags": []
   },
   "outputs": [],
   "source": [
    "def get_predictions(A2):\n",
    "    return np.argmax(A2, 0)\n",
    "\n",
    "def get_accuracy(predictions, Y):\n",
    "    print(predictions, Y)\n",
    "    return np.sum(predictions == Y)  / Y.size\n",
    "\n",
    "def gradient_descent(X, Y, alpha, iterations):\n",
    "    W1, b1, W2, b2 = init_params()\n",
    "    for i in range(iterations):\n",
    "        Z1, A1, Z2, A2 = fr_prop(W1, b1, W2, b2, X)\n",
    "        dW1, db1, dW2, db2 = b_prop(Z1, A1, Z2, A2, W1, W2, X, Y)\n",
    "        W1, b1, W2, b2 = update_params(W1, b1, W2, b2, dW1, db1, dW2, db2, alpha)\n",
    "        if i % 10 == 0:\n",
    "            print(\"Iteration : \", i)\n",
    "            predictions = get_predictions(A2)\n",
    "            print(get_accuracy(predictions, Y))\n",
    "    return W1, b1, W2, b2"
   ]
  },
  {
   "cell_type": "code",
   "execution_count": 12,
   "id": "42564a99",
   "metadata": {
    "execution": {
     "iopub.execute_input": "2022-11-07T20:30:18.334796Z",
     "iopub.status.busy": "2022-11-07T20:30:18.333592Z",
     "iopub.status.idle": "2022-11-07T20:31:35.614281Z",
     "shell.execute_reply": "2022-11-07T20:31:35.612517Z"
    },
    "papermill": {
     "duration": 77.291782,
     "end_time": "2022-11-07T20:31:35.618805",
     "exception": false,
     "start_time": "2022-11-07T20:30:18.327023",
     "status": "completed"
    },
    "tags": []
   },
   "outputs": [
    {
     "name": "stdout",
     "output_type": "stream",
     "text": [
      "Iteration :  0\n",
      "[1 9 9 ... 9 0 9] [3 7 8 ... 5 8 5]\n",
      "0.11553658536585366\n",
      "Iteration :  10\n",
      "[1 3 8 ... 3 0 9] [3 7 8 ... 5 8 5]\n",
      "0.17109756097560977\n",
      "Iteration :  20\n",
      "[6 3 8 ... 3 0 3] [3 7 8 ... 5 8 5]\n",
      "0.24892682926829268\n",
      "Iteration :  30\n",
      "[6 3 8 ... 3 0 5] [3 7 8 ... 5 8 5]\n",
      "0.3205121951219512\n",
      "Iteration :  40\n",
      "[6 7 8 ... 3 3 5] [3 7 8 ... 5 8 5]\n",
      "0.38565853658536586\n",
      "Iteration :  50\n",
      "[2 7 8 ... 3 3 5] [3 7 8 ... 5 8 5]\n",
      "0.4373170731707317\n",
      "Iteration :  60\n",
      "[2 7 8 ... 3 2 5] [3 7 8 ... 5 8 5]\n",
      "0.47617073170731705\n",
      "Iteration :  70\n",
      "[2 7 8 ... 3 6 5] [3 7 8 ... 5 8 5]\n",
      "0.5155853658536586\n",
      "Iteration :  80\n",
      "[2 7 8 ... 3 6 5] [3 7 8 ... 5 8 5]\n",
      "0.5469756097560976\n",
      "Iteration :  90\n",
      "[2 7 8 ... 3 6 5] [3 7 8 ... 5 8 5]\n",
      "0.573390243902439\n",
      "Iteration :  100\n",
      "[2 7 8 ... 3 6 5] [3 7 8 ... 5 8 5]\n",
      "0.5976829268292683\n",
      "Iteration :  110\n",
      "[2 7 8 ... 3 6 5] [3 7 8 ... 5 8 5]\n",
      "0.6189268292682927\n",
      "Iteration :  120\n",
      "[2 7 8 ... 3 6 5] [3 7 8 ... 5 8 5]\n",
      "0.6389268292682927\n",
      "Iteration :  130\n",
      "[2 7 8 ... 3 6 5] [3 7 8 ... 5 8 5]\n",
      "0.6543170731707317\n",
      "Iteration :  140\n",
      "[2 7 8 ... 3 6 5] [3 7 8 ... 5 8 5]\n",
      "0.6693414634146342\n",
      "Iteration :  150\n",
      "[2 7 8 ... 5 6 5] [3 7 8 ... 5 8 5]\n",
      "0.6836829268292683\n",
      "Iteration :  160\n",
      "[2 7 8 ... 5 6 5] [3 7 8 ... 5 8 5]\n",
      "0.6967317073170731\n",
      "Iteration :  170\n",
      "[2 7 8 ... 5 6 5] [3 7 8 ... 5 8 5]\n",
      "0.7077073170731707\n",
      "Iteration :  180\n",
      "[2 7 8 ... 5 6 5] [3 7 8 ... 5 8 5]\n",
      "0.7184390243902439\n",
      "Iteration :  190\n",
      "[2 7 8 ... 5 6 5] [3 7 8 ... 5 8 5]\n",
      "0.7272926829268292\n",
      "Iteration :  200\n",
      "[2 7 8 ... 5 6 5] [3 7 8 ... 5 8 5]\n",
      "0.7353170731707317\n",
      "Iteration :  210\n",
      "[2 7 8 ... 5 6 5] [3 7 8 ... 5 8 5]\n",
      "0.7435121951219512\n",
      "Iteration :  220\n",
      "[2 7 8 ... 5 6 5] [3 7 8 ... 5 8 5]\n",
      "0.7504878048780488\n",
      "Iteration :  230\n",
      "[2 7 8 ... 5 6 5] [3 7 8 ... 5 8 5]\n",
      "0.7575121951219512\n",
      "Iteration :  240\n",
      "[2 7 8 ... 5 6 5] [3 7 8 ... 5 8 5]\n",
      "0.7638780487804878\n",
      "Iteration :  250\n",
      "[2 7 8 ... 5 6 5] [3 7 8 ... 5 8 5]\n",
      "0.7690487804878049\n",
      "Iteration :  260\n",
      "[2 7 8 ... 5 6 5] [3 7 8 ... 5 8 5]\n",
      "0.7750243902439025\n",
      "Iteration :  270\n",
      "[2 7 8 ... 5 6 5] [3 7 8 ... 5 8 5]\n",
      "0.7799268292682927\n",
      "Iteration :  280\n",
      "[2 7 8 ... 5 6 5] [3 7 8 ... 5 8 5]\n",
      "0.7844634146341464\n",
      "Iteration :  290\n",
      "[2 7 8 ... 5 6 5] [3 7 8 ... 5 8 5]\n",
      "0.7883170731707317\n",
      "Iteration :  300\n",
      "[2 7 8 ... 5 6 5] [3 7 8 ... 5 8 5]\n",
      "0.7917317073170732\n",
      "Iteration :  310\n",
      "[2 7 8 ... 5 6 5] [3 7 8 ... 5 8 5]\n",
      "0.7952439024390244\n",
      "Iteration :  320\n",
      "[2 7 8 ... 5 6 5] [3 7 8 ... 5 8 5]\n",
      "0.7987317073170732\n",
      "Iteration :  330\n",
      "[2 7 8 ... 5 6 5] [3 7 8 ... 5 8 5]\n",
      "0.8020243902439025\n",
      "Iteration :  340\n",
      "[2 7 8 ... 5 6 5] [3 7 8 ... 5 8 5]\n",
      "0.8047073170731708\n",
      "Iteration :  350\n",
      "[2 7 8 ... 5 6 5] [3 7 8 ... 5 8 5]\n",
      "0.8079268292682927\n",
      "Iteration :  360\n",
      "[2 7 8 ... 5 6 5] [3 7 8 ... 5 8 5]\n",
      "0.8110487804878049\n",
      "Iteration :  370\n",
      "[2 7 8 ... 5 6 5] [3 7 8 ... 5 8 5]\n",
      "0.8135853658536585\n",
      "Iteration :  380\n",
      "[2 7 8 ... 5 6 5] [3 7 8 ... 5 8 5]\n",
      "0.8162439024390243\n",
      "Iteration :  390\n",
      "[2 7 8 ... 5 8 5] [3 7 8 ... 5 8 5]\n",
      "0.8189024390243902\n",
      "Iteration :  400\n",
      "[2 7 8 ... 5 8 5] [3 7 8 ... 5 8 5]\n",
      "0.8213170731707317\n",
      "Iteration :  410\n",
      "[2 7 8 ... 5 8 5] [3 7 8 ... 5 8 5]\n",
      "0.8235121951219512\n",
      "Iteration :  420\n",
      "[2 7 8 ... 5 8 5] [3 7 8 ... 5 8 5]\n",
      "0.8253658536585365\n",
      "Iteration :  430\n",
      "[2 7 8 ... 5 8 5] [3 7 8 ... 5 8 5]\n",
      "0.8275365853658536\n",
      "Iteration :  440\n",
      "[2 7 8 ... 5 8 5] [3 7 8 ... 5 8 5]\n",
      "0.8297317073170731\n",
      "Iteration :  450\n",
      "[2 7 8 ... 5 8 5] [3 7 8 ... 5 8 5]\n",
      "0.8315609756097561\n",
      "Iteration :  460\n",
      "[2 7 8 ... 5 8 5] [3 7 8 ... 5 8 5]\n",
      "0.832780487804878\n",
      "Iteration :  470\n",
      "[2 7 8 ... 5 8 5] [3 7 8 ... 5 8 5]\n",
      "0.8346341463414634\n",
      "Iteration :  480\n",
      "[2 7 8 ... 5 8 5] [3 7 8 ... 5 8 5]\n",
      "0.8364634146341463\n",
      "Iteration :  490\n",
      "[2 7 8 ... 5 8 5] [3 7 8 ... 5 8 5]\n",
      "0.838170731707317\n"
     ]
    }
   ],
   "source": [
    "W1, b1, W2, b2 = gradient_descent(X_train, Y_train, 0.10, 500)"
   ]
  },
  {
   "cell_type": "code",
   "execution_count": 13,
   "id": "0f5bd7d3",
   "metadata": {
    "execution": {
     "iopub.execute_input": "2022-11-07T20:31:35.662376Z",
     "iopub.status.busy": "2022-11-07T20:31:35.661627Z",
     "iopub.status.idle": "2022-11-07T20:31:35.676580Z",
     "shell.execute_reply": "2022-11-07T20:31:35.675161Z"
    },
    "papermill": {
     "duration": 0.042403,
     "end_time": "2022-11-07T20:31:35.681628",
     "exception": false,
     "start_time": "2022-11-07T20:31:35.639225",
     "status": "completed"
    },
    "tags": []
   },
   "outputs": [],
   "source": [
    "def make_predictions(X, W1, b1, W2, b2):\n",
    "    _, _, _, A2 = fr_prop(W1, b1, W2, b2, X)\n",
    "    predictions = get_predictions(A2)\n",
    "    return predictions\n",
    "\n",
    "def test_prediction(index, W1, b1, W2, b2):\n",
    "    current_image = X_train[:, index, None]\n",
    "    prediction = make_predictions(X_train[:, index, None], W1, b1, W2, b2)\n",
    "    label = Y_train[index]\n",
    "    print(\"Prediction: \", prediction)\n",
    "    print(\"Label: \", label)\n",
    "    \n",
    "    current_image = current_image.reshape((28, 28)) * 255\n",
    "    plt.gray()\n",
    "    plt.imshow(current_image, interpolation='nearest')\n",
    "    plt.show()"
   ]
  },
  {
   "cell_type": "code",
   "execution_count": 14,
   "id": "06e94bca",
   "metadata": {
    "execution": {
     "iopub.execute_input": "2022-11-07T20:31:35.726569Z",
     "iopub.status.busy": "2022-11-07T20:31:35.725854Z",
     "iopub.status.idle": "2022-11-07T20:31:36.520493Z",
     "shell.execute_reply": "2022-11-07T20:31:36.518855Z"
    },
    "papermill": {
     "duration": 0.820478,
     "end_time": "2022-11-07T20:31:36.523693",
     "exception": false,
     "start_time": "2022-11-07T20:31:35.703215",
     "status": "completed"
    },
    "tags": []
   },
   "outputs": [
    {
     "name": "stdout",
     "output_type": "stream",
     "text": [
      "Prediction:  [2]\n",
      "Label:  3\n"
     ]
    },
    {
     "data": {
      "image/png": "[encoded data removed]",
      "text/plain": [
       "<Figure size 432x288 with 1 Axes>"
      ]
     },
     "metadata": {
      "needs_background": "light"
     },
     "output_type": "display_data"
    },
    {
     "name": "stdout",
     "output_type": "stream",
     "text": [
      "Prediction:  [7]\n",
      "Label:  7\n"
     ]
    },
    {
     "data": {
      "image/png": "[encoded data removed]",
      "text/plain": [
       "<Figure size 432x288 with 1 Axes>"
      ]
     },
     "metadata": {
      "needs_background": "light"
     },
     "output_type": "display_data"
    },
    {
     "name": "stdout",
     "output_type": "stream",
     "text": [
      "Prediction:  [8]\n",
      "Label:  8\n"
     ]
    },
    {
     "data": {
      "image/png": "[encoded data removed]",
      "text/plain": [
       "<Figure size 432x288 with 1 Axes>"
      ]
     },
     "metadata": {
      "needs_background": "light"
     },
     "output_type": "display_data"
    },
    {
     "name": "stdout",
     "output_type": "stream",
     "text": [
      "Prediction:  [7]\n",
      "Label:  7\n"
     ]
    },
    {
     "data": {
      "image/png": "[encoded data removed]",
      "text/plain": [
       "<Figure size 432x288 with 1 Axes>"
      ]
     },
     "metadata": {
      "needs_background": "light"
     },
     "output_type": "display_data"
    }
   ],
   "source": [
    "test_prediction(0, W1, b1, W2, b2)\n",
    "test_prediction(1, W1, b1, W2, b2)\n",
    "test_prediction(2, W1, b1, W2, b2)\n",
    "test_prediction(3, W1, b1, W2, b2)"
   ]
  },
  {
   "cell_type": "code",
   "execution_count": 15,
   "id": "914c71b7",
   "metadata": {
    "execution": {
     "iopub.execute_input": "2022-11-07T20:31:36.544756Z",
     "iopub.status.busy": "2022-11-07T20:31:36.544330Z",
     "iopub.status.idle": "2022-11-07T20:31:36.572100Z",
     "shell.execute_reply": "2022-11-07T20:31:36.570798Z"
    },
    "papermill": {
     "duration": 0.051256,
     "end_time": "2022-11-07T20:31:36.584922",
     "exception": false,
     "start_time": "2022-11-07T20:31:36.533666",
     "status": "completed"
    },
    "tags": []
   },
   "outputs": [
    {
     "name": "stdout",
     "output_type": "stream",
     "text": [
      "[9 6 5 7 0 6 7 7 4 2 2 9 9 8 9 9 3 7 9 9 4 9 1 6 2 7 3 8 8 8 7 3 4 1 9 6 4\n",
      " 0 9 7 0 8 6 6 2 2 1 2 2 0 4 7 1 4 9 4 2 2 3 2 7 8 8 4 3 0 2 8 9 2 3 5 0 5\n",
      " 1 0 3 5 1 9 1 0 2 9 4 1 3 5 0 9 1 0 5 6 3 0 1 8 3 1 3 4 7 9 0 1 6 6 9 8 7\n",
      " 2 8 9 9 3 8 9 8 1 2 1 1 9 5 2 2 2 4 6 8 6 0 1 5 6 8 0 7 9 3 9 7 9 0 8 7 7\n",
      " 3 1 2 4 3 8 1 9 4 1 8 8 7 9 1 6 9 7 3 2 5 1 2 4 8 7 7 5 6 8 7 1 9 1 6 6 1\n",
      " 1 3 6 4 7 9 5 4 3 3 0 9 7 0 9 5 9 6 2 8 4 4 7 5 6 4 6 1 6 6 6 9 5 7 1 6 6\n",
      " 4 7 5 8 8 4 6 7 8 5 8 3 6 8 2 0 7 3 8 9 8 4 1 5 0 3 7 1 4 2 1 6 1 3 1 6 3\n",
      " 1 9 0 3 8 5 7 2 9 1 0 7 9 6 5 6 7 7 2 0 4 8 8 7 7 0 9 6 0 4 3 8 8 8 8 9 4\n",
      " 7 3 1 6 6 0 6 6 6 2 4 8 7 3 1 9 7 4 9 5 5 9 1 0 1 2 1 9 1 0 7 8 6 4 2 1 9\n",
      " 0 0 6 5 8 6 8 7 9 1 3 9 4 9 0 6 8 2 7 2 5 0 9 8 5 1 8 9 5 1 7 1 2 1 1 1 1\n",
      " 6 6 2 2 1 9 1 4 1 7 1 6 9 2 9 8 1 3 9 0 4 6 6 1 1 4 4 7 0 6 5 1 7 8 3 0 7\n",
      " 0 2 1 7 3 0 0 7 1 0 7 9 7 9 7 1 6 4 9 8 6 6 5 1 5 8 3 9 8 9 0 2 5 9 7 5 3\n",
      " 4 9 3 0 7 2 2 9 7 7 7 7 0 3 3 9 4 0 8 4 7 4 5 1 6 2 2 9 8 7 3 3 4 3 0 1 1\n",
      " 4 1 0 9 0 0 1 6 6 3 7 8 1 3 7 3 2 4 9 5 2 9 5 5 3 5 9 4 7 5 0 4 1 1 5 8 7\n",
      " 9 4 0 3 1 3 7 9 4 5 4 4 3 8 3 3 6 8 2 8 5 5 6 3 1 0 5 8 0 1 5 8 5 1 9 3 3\n",
      " 9 9 9 7 7 1 2 6 9 1 9 5 2 7 1 1 3 2 6 0 4 7 8 7 2 9 2 0 3 1 0 4 9 2 8 1 2\n",
      " 1 8 0 5 2 9 3 9 4 0 4 3 4 4 3 7 1 9 6 4 7 6 5 0 6 7 7 3 0 2 9 7 0 7 6 1 0\n",
      " 2 3 6 3 5 0 3 2 6 7 3 0 2 9 9 6 3 8 9 2 8 1 9 1 3 6 4 2 0 6 7 1 4 6 6 6 9\n",
      " 9 8 8 6 7 8 5 6 3 7 0 5 1 6 0 0 2 1 4 5 5 8 6 5 7 4 9 7 7 1 0 9 2 2 7 1 3\n",
      " 9 3 9 3 7 0 1 3 4 6 2 1 1 9 7 0 9 4 6 5 7 3 5 3 7 2 8 5 2 1 4 7 4 1 4 8 7\n",
      " 8 0 2 1 8 4 7 2 3 1 5 0 0 3 7 6 4 9 6 2 2 9 4 1 8 1 8 1 2 0 1 2 1 0 1 7 2\n",
      " 3 5 7 3 1 4 0 1 0 8 4 1 6 6 1 1 4 4 7 5 5 9 6 4 1 6 1 4 6 9 0 2 7 3 7 7 1\n",
      " 3 0 0 6 7 0 8 3 6 7 7 8 7 5 2 6 0 2 6 1 5 8 3 3 7 6 3 9 1 1 4 2 9 0 0 1 2\n",
      " 6 7 2 4 6 4 6 9 8 0 7 2 3 1 7 9 0 7 0 2 9 3 6 9 7 6 8 2 5 0 2 4 3 2 7 8 3\n",
      " 7 8 1 7 5 6 5 1 5 6 2 1 0 5 7 2 3 9 1 8 1 5 5 9 6 0 1 4 1 6 3 4 2 1 4 5 0\n",
      " 9 5 2 3 6 1 4 6 1 9 3 3 8 1 4 0 2 6 7 5 1 5 2 8 1 7 3 6 0 7 2 2 0 5 8 1 2\n",
      " 1 5 5 2 9 6 7 9 7 3 3 0 7 9 3 0 0 9 2 3 1 7 1 6 6 0 7 8 1 3 9 1 5 0 6 5 6\n",
      " 5] [9 6 5 7 0 6 7 7 4 2 2 9 9 8 9 4 3 7 9 9 4 5 1 6 2 7 3 3 8 6 5 3 4 3 9 6 4\n",
      " 0 9 7 0 8 6 6 2 2 1 2 2 0 4 7 1 4 9 2 4 2 3 6 7 8 1 4 8 0 2 8 9 3 3 5 0 5\n",
      " 1 0 3 0 1 4 1 0 2 9 4 1 3 5 0 4 1 0 5 6 3 0 1 8 3 1 3 9 7 9 0 1 6 6 9 8 7\n",
      " 2 8 9 9 3 8 4 8 1 8 1 1 9 5 7 2 2 4 2 3 6 0 1 5 6 3 5 7 9 3 9 7 8 0 8 3 7\n",
      " 5 1 2 4 3 8 1 4 4 1 8 2 7 9 7 6 9 2 3 3 0 1 2 9 8 7 7 5 6 8 7 1 9 1 6 6 1\n",
      " 2 3 2 9 7 9 9 4 3 3 0 9 2 0 9 5 8 4 2 8 9 4 7 5 6 4 6 1 6 6 6 9 5 7 1 6 6\n",
      " 4 7 5 8 8 4 6 7 8 5 2 3 6 1 2 0 7 3 8 9 8 4 1 3 5 5 7 1 4 7 1 6 1 3 1 5 3\n",
      " 1 4 0 3 8 8 7 1 7 2 0 7 9 6 5 6 7 5 2 0 4 8 8 7 7 0 9 6 0 0 3 8 8 1 8 9 4\n",
      " 7 3 1 6 6 0 6 6 6 2 4 8 7 3 1 9 7 4 9 5 5 7 2 0 1 2 8 9 1 0 7 1 6 6 2 1 9\n",
      " 0 0 6 3 8 4 8 7 9 1 3 7 4 9 0 6 8 7 7 2 1 0 9 8 3 1 8 9 8 1 9 1 3 1 1 8 1\n",
      " 2 6 2 2 1 9 1 4 1 7 1 6 9 2 9 8 1 2 4 0 4 6 6 1 1 9 4 7 0 5 5 1 3 8 9 0 9\n",
      " 0 5 1 7 3 0 0 7 1 0 7 4 7 9 9 1 6 4 9 8 6 6 8 1 5 5 3 9 8 9 0 2 3 9 7 8 3\n",
      " 4 7 2 0 7 2 2 9 7 7 7 7 0 8 3 9 9 0 8 2 7 4 5 1 6 2 2 9 8 7 3 2 4 3 0 7 1\n",
      " 4 1 0 9 0 0 1 6 6 2 7 8 1 3 7 3 2 9 9 5 2 9 5 5 3 5 9 4 7 5 0 4 1 1 0 8 7\n",
      " 9 4 0 3 1 3 7 9 4 5 4 4 2 8 3 3 3 5 2 3 5 7 6 3 1 0 5 8 0 1 7 8 3 1 4 3 3\n",
      " 9 9 3 7 7 1 2 6 9 1 8 5 2 7 1 1 3 3 4 0 6 7 8 7 2 9 2 0 3 1 0 4 9 2 8 1 2\n",
      " 1 8 0 5 2 9 3 9 9 6 4 3 4 4 3 7 1 9 6 4 7 6 8 0 6 7 7 3 0 2 9 7 0 7 6 1 7\n",
      " 8 3 6 3 5 0 3 2 6 7 3 0 2 9 9 6 3 8 9 2 5 1 9 1 3 6 4 2 0 6 7 1 4 6 6 6 9\n",
      " 9 8 8 6 7 8 5 6 3 7 0 5 1 6 0 0 2 1 4 5 5 8 6 0 7 4 9 7 7 8 0 3 2 2 7 1 8\n",
      " 7 3 9 3 7 0 1 3 4 6 2 1 1 9 7 0 9 4 6 5 7 3 3 3 7 2 8 5 2 1 4 7 5 1 4 8 8\n",
      " 4 0 2 1 5 9 7 2 3 1 5 0 0 3 7 6 4 9 6 2 6 7 4 1 8 1 8 1 2 0 1 8 1 0 1 7 6\n",
      " 3 5 9 3 1 4 0 1 0 8 4 1 4 6 1 1 4 4 7 5 5 9 6 4 1 6 1 4 6 5 0 2 7 3 7 7 1\n",
      " 3 0 0 6 7 0 8 3 6 7 7 8 7 5 2 5 0 0 6 1 5 8 3 8 7 6 3 9 1 1 4 2 4 0 0 1 3\n",
      " 6 7 2 4 6 9 6 9 8 0 7 2 3 1 7 9 0 7 5 2 3 3 6 9 7 6 8 2 0 0 2 4 3 2 7 8 3\n",
      " 7 3 1 7 5 2 0 7 9 6 2 1 2 8 7 2 3 4 1 8 1 5 5 9 0 0 1 9 1 6 3 4 2 1 4 5 0\n",
      " 4 5 2 3 6 1 9 6 1 9 3 3 8 1 4 0 6 6 7 5 1 5 2 8 1 7 3 6 0 7 2 2 0 9 8 1 2\n",
      " 1 5 5 2 9 6 7 9 7 3 5 0 7 9 3 0 0 9 2 3 1 7 1 6 6 5 7 8 1 3 9 1 5 0 6 5 6\n",
      " 5]\n"
     ]
    },
    {
     "data": {
      "text/plain": [
       "0.842"
      ]
     },
     "execution_count": 15,
     "metadata": {},
     "output_type": "execute_result"
    }
   ],
   "source": [
    "dev_predictions = make_predictions(X_dev, W1, b1, W2, b2)\n",
    "get_accuracy(dev_predictions, Y_dev)"
   ]
  }
 ],
 "metadata": {
  "kernelspec": {
   "display_name": "Python 3",
   "language": "python",
   "name": "python3"
  },
  "language_info": {
   "codemirror_mode": {
    "name": "ipython",
    "version": 3
   },
   "file_extension": ".py",
   "mimetype": "text/x-python",
   "name": "python",
   "nbconvert_exporter": "python",
   "pygments_lexer": "ipython3",
   "version": "3.7.12"
  },
  "papermill": {
   "default_parameters": {},
   "duration": 93.760906,
   "end_time": "2022-11-07T20:31:37.440750",
   "environment_variables": {},
   "exception": null,
   "input_path": "__notebook__.ipynb",
   "output_path": "__notebook__.ipynb",
   "parameters": {},
   "start_time": "2022-11-07T20:30:03.679844",
   "version": "2.3.4"
  }
 },
 "nbformat": 4,
 "nbformat_minor": 5
}
